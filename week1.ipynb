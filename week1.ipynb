{
 "cells": [
  {
   "cell_type": "code",
   "execution_count": 1,
   "id": "59cca612-5a3d-45a8-96d9-936cfae2517c",
   "metadata": {},
   "outputs": [
    {
     "name": "stdout",
     "output_type": "stream",
     "text": [
      "10\n",
      "20\n",
      "30\n"
     ]
    }
   ],
   "source": [
    "#1.정수형 변수와 연산 \n",
    "a = 10\n",
    "b = 20\n",
    "c = a + b\n",
    "\n",
    "print(a) # 10\n",
    "print(b) # 20\n",
    "print(c) # 30\n"
   ]
  },
  {
   "cell_type": "code",
   "execution_count": 2,
   "id": "7e8fde0e-bf4b-4be3-810c-bce352d744d0",
   "metadata": {},
   "outputs": [
    {
     "name": "stdout",
     "output_type": "stream",
     "text": [
      "1.5\n",
      "2.5\n",
      "3.75\n"
     ]
    }
   ],
   "source": [
    "#2. 실수형 변수와 연산\n",
    "a = 1.5\n",
    "b = 2.5\n",
    "c = a * b\n",
    "\n",
    "print(a) # 1.5\n",
    "print(b) # 2.5\n",
    "print(c) # 3.75"
   ]
  },
  {
   "cell_type": "code",
   "execution_count": 3,
   "id": "c6e5509b-2cfc-4efb-969c-c284a638cafa",
   "metadata": {},
   "outputs": [
    {
     "name": "stdout",
     "output_type": "stream",
     "text": [
      "Alice\n",
      "Hello, Alice!\n"
     ]
    }
   ],
   "source": [
    "#3. 문자열 변수\n",
    "name = 'Alice'\n",
    "greeting = 'Hello, ' + name + '!'\n",
    "\n",
    "print(name) # Alice\n",
    "print(greeting) # Hello, Alice!"
   ]
  },
  {
   "cell_type": "code",
   "execution_count": 4,
   "id": "8feaf1fe-5f73-48ff-9bc9-bc084962139d",
   "metadata": {},
   "outputs": [
    {
     "name": "stdout",
     "output_type": "stream",
     "text": [
      "True\n",
      "False\n"
     ]
    }
   ],
   "source": [
    "#4. boolean 변수와 연산 \n",
    "a = 10\n",
    "b = 20\n",
    "\n",
    "result1 = a < b\n",
    "result2 = a == b\n",
    "\n",
    "print(result1) # True\n",
    "print(result2) # False"
   ]
  },
  {
   "cell_type": "code",
   "execution_count": 5,
   "id": "6554b699-8067-41fd-a88d-821233642d7a",
   "metadata": {},
   "outputs": [
    {
     "name": "stdout",
     "output_type": "stream",
     "text": [
      "apple\n",
      "banana\n",
      "cherry\n",
      "['apple', 'banana', 'cherry', 'orange']\n"
     ]
    }
   ],
   "source": [
    "#5. 리스트\n",
    "fruits = ['apple', 'banana', 'cherry']\n",
    "print(fruits[0]) # apple\n",
    "print(fruits[1]) # banana\n",
    "print(fruits[2]) # cherry\n",
    "\n",
    "fruits.append('orange')\n",
    "print(fruits) # ['apple', 'banana', 'cherry', 'orange']"
   ]
  },
  {
   "cell_type": "code",
   "execution_count": 6,
   "id": "7711207a-2112-4399-84c5-b9880c0f0922",
   "metadata": {},
   "outputs": [
    {
     "name": "stdout",
     "output_type": "stream",
     "text": [
      "1\n",
      "2\n",
      "3\n"
     ]
    }
   ],
   "source": [
    "#6 튜플\n",
    "mytuple = (1, 2, 3)\n",
    "print(mytuple[0]) # 1\n",
    "print(mytuple[1]) # 2\n",
    "print(mytuple[2]) # 3\n",
    "\n",
    "# 튜플은 값을 변경할 수 없습니다.\n",
    "# mytuple[0] = 4 # TypeError 발생"
   ]
  },
  {
   "cell_type": "code",
   "execution_count": 7,
   "id": "ab805a91-6c24-4084-bd8d-4907947ae5e6",
   "metadata": {},
   "outputs": [
    {
     "name": "stdout",
     "output_type": "stream",
     "text": [
      "Alice\n",
      "25\n",
      "Seoul\n",
      "{'name': 'Alice', 'age': 25, 'city': 'Seoul', 'job': 'engineer'}\n"
     ]
    }
   ],
   "source": [
    "#7. Dictionary 사전 \n",
    "person = {'name': 'Alice', 'age': 25, 'city': 'Seoul'}\n",
    "print(person['name']) # Alice\n",
    "print(person['age']) # 25\n",
    "print(person['city']) # Seoul\n",
    "\n",
    "person['job'] = 'engineer'\n",
    "print(person) # {'name': 'Alice', 'age': 25, 'city': 'Seoul', 'job': 'engineer'}\n"
   ]
  },
  {
   "cell_type": "code",
   "execution_count": 8,
   "id": "239ab263-8a6d-40df-bc42-9bd1e5ad94f2",
   "metadata": {},
   "outputs": [
    {
     "name": "stdout",
     "output_type": "stream",
     "text": [
      "x는 양수입니다.\n"
     ]
    }
   ],
   "source": [
    "#.8 if Loop\n",
    "x = 10\n",
    "if x > 0:\n",
    "    print('x는 양수입니다.')\n",
    "elif x == 0:\n",
    "    print('x는 0입니다.')\n",
    "else:\n",
    "    print('x는 음수입니다.')\n",
    "    "
   ]
  },
  {
   "cell_type": "code",
   "execution_count": 9,
   "id": "00118a4d-3703-4427-a990-e36d8fcdcd32",
   "metadata": {},
   "outputs": [
    {
     "name": "stdout",
     "output_type": "stream",
     "text": [
      "0\n",
      "1\n",
      "2\n",
      "3\n",
      "4\n"
     ]
    }
   ],
   "source": [
    "#9. while Loop\n",
    "i = 0\n",
    "while i < 5:\n",
    "    print(i)\n",
    "    i += 1\n"
   ]
  },
  {
   "cell_type": "code",
   "execution_count": 11,
   "id": "554670c5-a4a6-47c8-a4ef-00375ba7e5fa",
   "metadata": {},
   "outputs": [
    {
     "name": "stdout",
     "output_type": "stream",
     "text": [
      "0\n",
      "1\n",
      "2\n",
      "3\n",
      "4\n"
     ]
    }
   ],
   "source": [
    "#10. for Loop(Function: Range)\n",
    "for i in range(5):\n",
    "    print(i)\n",
    "    "
   ]
  },
  {
   "cell_type": "code",
   "execution_count": 12,
   "id": "b8a3330b-e980-4bd4-a0d5-9eedfce8a0c4",
   "metadata": {},
   "outputs": [
    {
     "name": "stdout",
     "output_type": "stream",
     "text": [
      "0 0\n",
      "0 1\n",
      "0 2\n",
      "1 0\n",
      "1 1\n",
      "1 2\n"
     ]
    }
   ],
   "source": [
    "#11. for Loop(Overlap)\n",
    "for i in range(2):\n",
    "    for j in range(3):\n",
    "        print(i, j)"
   ]
  },
  {
   "cell_type": "code",
   "execution_count": null,
   "id": "cd1ce0f6-e54b-4253-aa56-66c1f7a6cc47",
   "metadata": {},
   "outputs": [],
   "source": [
    "#12. Input\n",
    "# user_input의 자료형(type) = 문자열(String)\n",
    "user_input = input()\n",
    "\n",
    "# user_input의 자료형(type) = 정수형(int)\n",
    "user_input = int(input())"
   ]
  },
  {
   "cell_type": "code",
   "execution_count": 15,
   "id": "55e9867a-f503-4ee4-b9c6-921cefb93d44",
   "metadata": {},
   "outputs": [
    {
     "name": "stdout",
     "output_type": "stream",
     "text": [
      "\n"
     ]
    }
   ],
   "source": [
    "#13. Output\n",
    "print(user_input)"
   ]
  },
  {
   "cell_type": "code",
   "execution_count": 14,
   "id": "41101825-db54-4a17-91ae-34642f51b51a",
   "metadata": {},
   "outputs": [
    {
     "name": "stdout",
     "output_type": "stream",
     "text": [
      "apple\n",
      "banana\n",
      "cherry\n"
     ]
    }
   ],
   "source": [
    "#14. for Loop(List)\n",
    "fruits = ['apple', 'banana', 'cherry']\n",
    "for fruit in fruits:\n",
    "    print(fruit)"
   ]
  },
  {
   "cell_type": "code",
   "execution_count": null,
   "id": "34554f57-0b30-456d-8aae-09b32e3737b2",
   "metadata": {},
   "outputs": [],
   "source": []
  },
  {
   "cell_type": "code",
   "execution_count": null,
   "id": "ec89ca41-b3aa-40f9-a839-b8ea814dadcd",
   "metadata": {},
   "outputs": [],
   "source": []
  }
 ],
 "metadata": {
  "kernelspec": {
   "display_name": "Python 3 (ipykernel)",
   "language": "python",
   "name": "python3"
  },
  "language_info": {
   "codemirror_mode": {
    "name": "ipython",
    "version": 3
   },
   "file_extension": ".py",
   "mimetype": "text/x-python",
   "name": "python",
   "nbconvert_exporter": "python",
   "pygments_lexer": "ipython3",
   "version": "3.7.16"
  }
 },
 "nbformat": 4,
 "nbformat_minor": 5
}
